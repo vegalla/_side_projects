{
 "cells": [
  {
   "cell_type": "markdown",
   "metadata": {},
   "source": [
    "# ER ATIA 12/22/2020\n",
    "\n",
    "## Purpose: Add county to zipcodes\n"
   ]
  },
  {
   "cell_type": "code",
   "execution_count": 18,
   "metadata": {},
   "outputs": [],
   "source": [
    "## dependencies\n",
    "import zipcodes\n",
    "from uszipcode import SearchEngine\n",
    "import pandas as pd"
   ]
  },
  {
   "cell_type": "code",
   "execution_count": 20,
   "metadata": {
    "scrolled": true
   },
   "outputs": [
    {
     "name": "stdout",
     "output_type": "stream",
     "text": [
      "Start downloading data for simple zipcode database, total size 9MB ...\n",
      "  1 MB finished ...\n",
      "  2 MB finished ...\n",
      "  3 MB finished ...\n",
      "  4 MB finished ...\n",
      "  5 MB finished ...\n",
      "  6 MB finished ...\n",
      "  7 MB finished ...\n",
      "  8 MB finished ...\n",
      "  9 MB finished ...\n",
      "  10 MB finished ...\n",
      "  Complete!\n"
     ]
    }
   ],
   "source": [
    "search = SearchEngine(simple_zipcode=True)\n",
    "\n"
   ]
  },
  {
   "cell_type": "code",
   "execution_count": 28,
   "metadata": {},
   "outputs": [
    {
     "data": {
      "text/plain": [
       "<bound method ExtendedBase.to_dict of SimpleZipcode(zipcode='24112', zipcode_type='Standard', major_city='Martinsville', post_office_city='Martinsville, VA', common_city_list=['Martinsville'], county='Henry County', state='VA', lat=36.7, lng=-79.9, timezone='Eastern', radius_in_miles=12.0, area_code_list=['276'], population=32646, population_density=215.0, land_area_in_sqmi=151.69, water_area_in_sqmi=0.86, housing_units=16192, occupied_housing_units=14102, median_home_value=92500, median_household_income=32566, bounds_west=-80.036403, bounds_east=-79.695873, bounds_north=36.860355, bounds_south=36.597483)>"
      ]
     },
     "execution_count": 28,
     "metadata": {},
     "output_type": "execute_result"
    }
   ],
   "source": [
    "test01 = search.by_zipcode(\"24112\")\n",
    "\n",
    "test01.to_dict"
   ]
  },
  {
   "cell_type": "code",
   "execution_count": 29,
   "metadata": {},
   "outputs": [
    {
     "ename": "NameError",
     "evalue": "name 'zipcode' is not defined",
     "output_type": "error",
     "traceback": [
      "\u001b[1;31m---------------------------------------------------------------------------\u001b[0m",
      "\u001b[1;31mNameError\u001b[0m                                 Traceback (most recent call last)",
      "\u001b[1;32m<ipython-input-29-3c9cdc0587ef>\u001b[0m in \u001b[0;36m<module>\u001b[1;34m\u001b[0m\n\u001b[1;32m----> 1\u001b[1;33m \u001b[0mzipcode\u001b[0m\u001b[1;33m\u001b[0m\u001b[1;33m\u001b[0m\u001b[0m\n\u001b[0m",
      "\u001b[1;31mNameError\u001b[0m: name 'zipcode' is not defined"
     ]
    }
   ],
   "source": [
    "zipcode"
   ]
  },
  {
   "cell_type": "code",
   "execution_count": 30,
   "metadata": {},
   "outputs": [
    {
     "data": {
      "text/html": [
       "<div>\n",
       "<style scoped>\n",
       "    .dataframe tbody tr th:only-of-type {\n",
       "        vertical-align: middle;\n",
       "    }\n",
       "\n",
       "    .dataframe tbody tr th {\n",
       "        vertical-align: top;\n",
       "    }\n",
       "\n",
       "    .dataframe thead th {\n",
       "        text-align: right;\n",
       "    }\n",
       "</style>\n",
       "<table border=\"1\" class=\"dataframe\">\n",
       "  <thead>\n",
       "    <tr style=\"text-align: right;\">\n",
       "      <th></th>\n",
       "      <th>zip</th>\n",
       "    </tr>\n",
       "  </thead>\n",
       "  <tbody>\n",
       "    <tr>\n",
       "      <th>0</th>\n",
       "      <td>873</td>\n",
       "    </tr>\n",
       "    <tr>\n",
       "      <th>1</th>\n",
       "      <td>1001</td>\n",
       "    </tr>\n",
       "    <tr>\n",
       "      <th>2</th>\n",
       "      <td>1008</td>\n",
       "    </tr>\n",
       "    <tr>\n",
       "      <th>3</th>\n",
       "      <td>1010</td>\n",
       "    </tr>\n",
       "    <tr>\n",
       "      <th>4</th>\n",
       "      <td>1011</td>\n",
       "    </tr>\n",
       "    <tr>\n",
       "      <th>...</th>\n",
       "      <td>...</td>\n",
       "    </tr>\n",
       "    <tr>\n",
       "      <th>10471</th>\n",
       "      <td>99682</td>\n",
       "    </tr>\n",
       "    <tr>\n",
       "      <th>10472</th>\n",
       "      <td>99683</td>\n",
       "    </tr>\n",
       "    <tr>\n",
       "      <th>10473</th>\n",
       "      <td>99687</td>\n",
       "    </tr>\n",
       "    <tr>\n",
       "      <th>10474</th>\n",
       "      <td>99688</td>\n",
       "    </tr>\n",
       "    <tr>\n",
       "      <th>10475</th>\n",
       "      <td>99694</td>\n",
       "    </tr>\n",
       "  </tbody>\n",
       "</table>\n",
       "<p>10476 rows × 1 columns</p>\n",
       "</div>"
      ],
      "text/plain": [
       "         zip\n",
       "0        873\n",
       "1       1001\n",
       "2       1008\n",
       "3       1010\n",
       "4       1011\n",
       "...      ...\n",
       "10471  99682\n",
       "10472  99683\n",
       "10473  99687\n",
       "10474  99688\n",
       "10475  99694\n",
       "\n",
       "[10476 rows x 1 columns]"
      ]
     },
     "execution_count": 30,
     "metadata": {},
     "output_type": "execute_result"
    }
   ],
   "source": [
    "va = pd.read_csv('data/va_zip.csv')\n",
    "\n",
    "va"
   ]
  },
  {
   "cell_type": "code",
   "execution_count": null,
   "metadata": {},
   "outputs": [],
   "source": [
    "va['zip'] = va['zip'].astype(str)"
   ]
  },
  {
   "cell_type": "code",
   "execution_count": null,
   "metadata": {
    "scrolled": false
   },
   "outputs": [],
   "source": [
    "va['zip'] = va['zip'].apply(lambda x: x.zfill(5))\n",
    "\n",
    "va"
   ]
  },
  {
   "cell_type": "code",
   "execution_count": null,
   "metadata": {},
   "outputs": [],
   "source": [
    "for i in range(0, len(va)):\n",
    "    zipcode = va.iloc[i,0]\n",
    "    match = zipcodes.matching(zipcode)\n",
    "    if len(match) != 0:\n",
    "        va.loc[i, 'county'] = match[0]['county']\n",
    "    "
   ]
  },
  {
   "cell_type": "code",
   "execution_count": null,
   "metadata": {},
   "outputs": [],
   "source": [
    "for i in range(0, len(va)):\n",
    "    zipcode = va.iloc[i,0]\n",
    "    match = zipcodes.matching(zipcode)\n",
    "    if len(match) != 0:\n",
    "        va.loc[i, 'state'] = match[0]['state']\n",
    "    "
   ]
  },
  {
   "cell_type": "code",
   "execution_count": null,
   "metadata": {},
   "outputs": [],
   "source": [
    "va['county'] = va['county'].str.replace(' County', '')\n",
    "va['county'] = va['county'].str.replace(' Borough', '')"
   ]
  },
  {
   "cell_type": "code",
   "execution_count": null,
   "metadata": {
    "scrolled": true
   },
   "outputs": [],
   "source": [
    "va"
   ]
  },
  {
   "cell_type": "code",
   "execution_count": null,
   "metadata": {},
   "outputs": [],
   "source": [
    "va.to_csv('data/va_zip_county.csv', index= False)"
   ]
  },
  {
   "cell_type": "code",
   "execution_count": null,
   "metadata": {},
   "outputs": [],
   "source": [
    "zipcodes.matching(\"24112\")"
   ]
  }
 ],
 "metadata": {
  "kernelspec": {
   "display_name": "Python 3",
   "language": "python",
   "name": "python3"
  },
  "language_info": {
   "codemirror_mode": {
    "name": "ipython",
    "version": 3
   },
   "file_extension": ".py",
   "mimetype": "text/x-python",
   "name": "python",
   "nbconvert_exporter": "python",
   "pygments_lexer": "ipython3",
   "version": "3.8.5"
  }
 },
 "nbformat": 4,
 "nbformat_minor": 4
}
